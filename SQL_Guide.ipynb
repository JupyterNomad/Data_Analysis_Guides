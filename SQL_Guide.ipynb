{
 "cells": [
  {
   "cell_type": "markdown",
   "id": "cf0b8182-0716-4f1b-9226-b68ad72a91b0",
   "metadata": {},
   "source": [
    "<center><div style=\"font-size: 50px\">SQL Guide</div>\n",
    "\n",
    "**Cast command - CAST(Attribute AS Datatype) to a specific data type. a.k.a. Integer/Float/Datetime/Booleans/Character or String\n",
    "    "
   ]
  },
  {
   "cell_type": "markdown",
   "id": "e1c663c3-0785-480e-8687-689e7d378210",
   "metadata": {},
   "source": [
    "SELECT is what attributes we are selecting form the data.\n",
    "\n",
    "EX: Attribute or coloumn name or * for all attributes.\n",
    "\n",
    "FROM is what table we are pulling this information in its direct path.\n",
    "\n",
    "Ex: Data_set.Table\n",
    "\n",
    "WHERE command - its the filtering command for SQL that is generally used across all RDBMS\n",
    "\n",
    "Ex: Attribute = 'Value' or Genre = 'Comedy'\n",
    "\n",
    "Full Example of this:\n",
    "    \n",
    "Select\n",
    "    *\n",
    "\n",
    "FROM \n",
    "    movie_data.movies\n",
    "\n",
    "WHERE\n",
    "    Genre = 'Comedy'\n"
   ]
  },
  {
   "cell_type": "markdown",
   "id": "ef2e533c-c095-4de9-8310-59438c8c544d",
   "metadata": {},
   "source": [
    "<center><b><div style=\"font-size: 40px\"> A full example would look like this:</div></b></center>\n",
    "\n",
    "<img src=\"Images/SQL_WHERE.png\"\n",
    "     alt=\"error\" \n",
    "     style=\"margin-left: 450px\"\n",
    "     />"
   ]
  },
  {
   "cell_type": "markdown",
   "id": "13b5ddf1-8faa-4c12-a58d-e7babecac82a",
   "metadata": {},
   "source": [
    "<div style=\"text-align: justify;\">\n",
    "    <div style=\"display: inline-block; width: 49%; text-align: left; font-size: 20px;\"><b>Sorting in SQL is just as easy with the ORDER BY clause! It looks like this:</b></div>\n",
    "    <div style=\"display: inline-block; width: 49%; text-align: right; font-size: 20px;\"><b>You can even do the reverse order or descending as such:</b></div>\n",
    "</div>\n",
    "\n",
    "<br>\n",
    "\n",
    "<img src=\"Images/SQL_ORDERBY.png\"\n",
    "     alt=\"error\" align=\"left\" \n",
    "     width=\"400\"\n",
    "     style=\"margin-left: 150px\"/>\n",
    "<img src=\"Images/ASEN_DESC.png\"\n",
    "     alt=\"error\" align=\"right\"\n",
    "     width=\"400\"\n",
    "     style=\"margin-right: 75px\"/>"
   ]
  },
  {
   "cell_type": "markdown",
   "id": "5a5ce382-0ab9-4b67-be9a-990f550794ef",
   "metadata": {},
   "source": [
    "<div style=\"font-size: 20px\"><b>You can easily do both Sorting and filtering in the same query like so:</b></div>\n",
    "\n",
    "<br>\n",
    "\n",
    "<img src=\"Images/SQL_ORDER_FILTER.png\"\n",
    "     width=\"350\"\n",
    "     style=\"margin-left: 160px\"\n",
    "    />\n",
    "\n",
    "\n"
   ]
  },
  {
   "cell_type": "code",
   "execution_count": null,
   "id": "ba6b3e16-f6eb-41dd-91ec-2df83f71fa00",
   "metadata": {},
   "outputs": [],
   "source": []
  }
 ],
 "metadata": {
  "kernelspec": {
   "display_name": "Python 3 (ipykernel)",
   "language": "python",
   "name": "python3"
  },
  "language_info": {
   "codemirror_mode": {
    "name": "ipython",
    "version": 3
   },
   "file_extension": ".py",
   "mimetype": "text/x-python",
   "name": "python",
   "nbconvert_exporter": "python",
   "pygments_lexer": "ipython3",
   "version": "3.9.12"
  }
 },
 "nbformat": 4,
 "nbformat_minor": 5
}
