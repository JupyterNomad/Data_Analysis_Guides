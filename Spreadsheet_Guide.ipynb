{
 "cells": [
  {
   "cell_type": "markdown",
   "id": "4f6c44cc-40de-4a98-935c-5072e5bb5345",
   "metadata": {
    "tags": []
   },
   "source": [
    "<center><div style=\"font-size: 50px\">Spread Sheet Guide</div>\n",
    "<br>"
   ]
  },
  {
   "cell_type": "markdown",
   "id": "558faa5a-d8fe-4f58-8818-8be25197cc76",
   "metadata": {},
   "source": [
    "Sorting and Filtering within a spreadsheet is realitively straight foward and can be done by clicking the data tab on the ribbon on both Excel and Google Sheets as shown here: "
   ]
  },
  {
   "attachments": {
    "a3d5c846-8afa-47e8-bc4c-ab339c32a6dd.png": {
     "image/png": "[encoded data removed]"
    }
   },
   "cell_type": "markdown",
   "id": "fe101f66-ffef-43e4-829a-e07da043bd88",
   "metadata": {},
   "source": [
    "![image.png](attachment:a3d5c846-8afa-47e8-bc4c-ab339c32a6dd.png)"
   ]
  },
  {
   "cell_type": "markdown",
   "id": "7e0543c2-6e0e-4ae9-b232-789c31ba4e06",
   "metadata": {},
   "source": [
    "Sort Function:\n",
    "\n",
    "=SORT(Range,index,Acen/Desc) or =SORT(A2:D6,2,TRUE/FALSE)\n"
   ]
  },
  {
   "cell_type": "markdown",
   "id": "b9e1164e-6257-48bb-b33d-f88b85b15785",
   "metadata": {},
   "source": [
    "You can sort an entrie 'range' by using the Custom Sort option in Excel or under Data->Sort Range->Advanced Sorting Options in Google Sheets."
   ]
  },
  {
   "cell_type": "markdown",
   "id": "9151781c-9060-4a21-8f0c-7b38049c1718",
   "metadata": {},
   "source": [
    "# Formatting"
   ]
  },
  {
   "cell_type": "markdown",
   "id": "7d0d6230-d3c7-4874-8d75-75ac3a7c1856",
   "metadata": {
    "tags": []
   },
   "source": [
    "## Formatting can be easily done from the ribbon of both Excel or Google Sheets!\n",
    "\n",
    "<br>\n",
    "\n",
    "<div style=\"text-align: justify;\">\n",
    "    <div style=\"display: inline-block; width: 49%; text-align: left; font-size: 15px;\"><b>Here is a screenshot of the Google Sheets ribbon tab:</b></div>\n",
    "    <div style=\"display: inline-block; width: 49%; text-align: right; font-size: 15px;\"><b>Here is a screenshot of the Excel ribbon tab, which is the home tab:</b></div>\n",
    "</div>\n",
    "\n",
    "<br>\n",
    "\n",
    "<img src=\"./GS_Format.png\"\n",
    "     alt=\"error\" align=\"left\" \n",
    "     width=\"500\"\n",
    "     style=\"margin-left: 0px\"/>\n",
    "<img src=\"./images/Excel_Formatting.png\"\n",
    "     alt=\"error\" align=\"right\"\n",
    "     width=\"500\"\n",
    "     style=\"margin-right: 50px\"/>\n"
   ]
  },
  {
   "cell_type": "markdown",
   "id": "c263aa9a-fc6a-4cfb-a50d-5a2ab3680f72",
   "metadata": {},
   "source": [
    "<div style=\"font-size: 15px\"> <b>You can also use the =CONVERT() function in both spreadsheets i.e Changing from Fahrenheit to Celsius:</b></div>\n",
    "\n",
    "<br>\n",
    "\n",
    "<img src=\"./images/SS_CONVERT.png\"\n",
    "     style = \"margin-left: 0px\"\n",
    "     alt = \"error\" align=\"left\"\n",
    "/>\n"
   ]
  },
  {
   "cell_type": "markdown",
   "id": "d05ddab2-b36e-45c8-b0af-7e2e4a9c959e",
   "metadata": {},
   "source": [
    "Another way to keep data formatted with a shared document without manualy doing so, you can set rules with data validation!\n",
    "\n",
    "### Data validation can:\n",
    "    \n",
    "* Add dropdown lists with predetermined options\n",
    "* Create custom checkboes\n",
    "* Protect structured data and formulas"
   ]
  },
  {
   "cell_type": "markdown",
   "id": "4ed4d852-d4ad-44f9-afe2-61f061491148",
   "metadata": {},
   "source": [
    "Conditional Formatting can help make your information more clear and understandable, especially for your stakeholders which is very important. \n",
    "\n",
    "i.e make a specifc cell block if a value meets a certain criteria.\n",
    "\n",
    "<i>It's a great way to highlight important metrics or dates!</i>"
   ]
  },
  {
   "cell_type": "code",
   "execution_count": null,
   "id": "56af7650-0b26-4b2d-ac00-5fa26360eaaa",
   "metadata": {},
   "outputs": [],
   "source": []
  }
 ],
 "metadata": {
  "kernelspec": {
   "display_name": "Python 3 (ipykernel)",
   "language": "python",
   "name": "python3"
  },
  "language_info": {
   "codemirror_mode": {
    "name": "ipython",
    "version": 3
   },
   "file_extension": ".py",
   "mimetype": "text/x-python",
   "name": "python",
   "nbconvert_exporter": "python",
   "pygments_lexer": "ipython3",
   "version": "3.9.12"
  }
 },
 "nbformat": 4,
 "nbformat_minor": 5
}
